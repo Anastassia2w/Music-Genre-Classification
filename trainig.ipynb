{
 "cells": [
  {
   "cell_type": "code",
   "execution_count": 3,
   "id": "bd8ac4a6-b3ec-4865-924a-1da855cfc3ac",
   "metadata": {},
   "outputs": [],
   "source": [
    "import pandas as pd\n",
    "\n",
    "df = pd.read_csv('features_3_sec.csv')\n",
    "X = df.drop(['filename', 'label'], axis=1)\n",
    "y = df['label']"
   ]
  },
  {
   "cell_type": "code",
   "execution_count": 4,
   "id": "63a86666-78e9-4420-8a8b-7106caff9732",
   "metadata": {},
   "outputs": [],
   "source": [
    "from sklearn.preprocessing import StandardScaler, MinMaxScaler\n",
    "\n",
    "cols = [col for col in X.columns]\n",
    "X = X.loc[:,cols]\n",
    "scaler = StandardScaler()\n",
    "X_scaled = scaler.fit_transform(X)"
   ]
  },
  {
   "cell_type": "code",
   "execution_count": 5,
   "id": "84ea5c3a-17ef-43c0-8936-746e5909cede",
   "metadata": {},
   "outputs": [],
   "source": [
    "from sklearn.preprocessing import LabelEncoder\n",
    "import numpy as np\n",
    "\n",
    "le = LabelEncoder()\n",
    "y_enc = le.fit_transform(y)"
   ]
  },
  {
   "cell_type": "code",
   "execution_count": 6,
   "id": "cf46894c-a98a-4a37-80ba-4195c690e55a",
   "metadata": {},
   "outputs": [],
   "source": [
    "from sklearn.model_selection import train_test_split\n",
    "\n",
    "X_train, X_test, y_train, y_test = train_test_split(X, y_enc, test_size=0.2, stratify=y_enc, random_state=1)"
   ]
  },
  {
   "cell_type": "code",
   "execution_count": 7,
   "id": "540866cc-6df0-452c-959a-7e814ffc34d9",
   "metadata": {},
   "outputs": [],
   "source": [
    "from sklearn.metrics import classification_report\n",
    "from sklearn.naive_bayes import GaussianNB\n",
    "from sklearn.linear_model import SGDClassifier, LogisticRegression\n",
    "from sklearn.neighbors import KNeighborsClassifier\n",
    "from sklearn.tree import DecisionTreeClassifier\n",
    "from sklearn.ensemble import RandomForestClassifier\n",
    "from sklearn.svm import SVC\n",
    "from sklearn.neural_network import MLPClassifier\n",
    "from xgboost import XGBClassifier, XGBRFClassifier\n",
    "from catboost import CatBoostClassifier\n",
    "\n",
    "def model_evaluation(model, X_train, X_test, desc):\n",
    "    model.fit(X_train, y_train)\n",
    "    y_pred = model.predict(X_test)\n",
    "    print(desc)\n",
    "    print(classification_report(y_test, y_pred, target_names=le.classes_, zero_division=0.0))\n",
    "    return y_pred\n"
   ]
  },
  {
   "cell_type": "code",
   "execution_count": 41,
   "id": "5ec06895-a9a5-4d7a-8e93-25556ef97700",
   "metadata": {},
   "outputs": [
    {
     "name": "stdout",
     "output_type": "stream",
     "text": [
      "RFC Evaluation\n",
      "              precision    recall  f1-score   support\n",
      "\n",
      "       blues       0.81      0.88      0.85       200\n",
      "   classical       0.89      0.97      0.93       199\n",
      "     country       0.81      0.80      0.81       199\n",
      "       disco       0.86      0.86      0.86       200\n",
      "      hiphop       0.92      0.84      0.88       200\n",
      "        jazz       0.81      0.85      0.83       200\n",
      "       metal       0.90      0.94      0.92       200\n",
      "         pop       0.89      0.89      0.89       200\n",
      "      reggae       0.84      0.83      0.84       200\n",
      "        rock       0.85      0.69      0.76       200\n",
      "\n",
      "    accuracy                           0.86      1998\n",
      "   macro avg       0.86      0.86      0.86      1998\n",
      "weighted avg       0.86      0.86      0.86      1998\n",
      "\n",
      "SVC Evaluation\n",
      "              precision    recall  f1-score   support\n",
      "\n",
      "       blues       0.12      0.01      0.01       200\n",
      "   classical       0.49      0.79      0.61       199\n",
      "     country       0.19      0.29      0.23       199\n",
      "       disco       0.19      0.23      0.21       200\n",
      "      hiphop       0.15      0.01      0.02       200\n",
      "        jazz       0.24      0.12      0.16       200\n",
      "       metal       0.24      0.53      0.33       200\n",
      "         pop       0.36      0.38      0.37       200\n",
      "      reggae       0.28      0.49      0.35       200\n",
      "        rock       0.07      0.01      0.01       200\n",
      "\n",
      "    accuracy                           0.28      1998\n",
      "   macro avg       0.23      0.28      0.23      1998\n",
      "weighted avg       0.23      0.28      0.23      1998\n",
      "\n",
      "DCT Evaluation\n",
      "              precision    recall  f1-score   support\n",
      "\n",
      "       blues       0.60      0.62      0.61       200\n",
      "   classical       0.87      0.87      0.87       199\n",
      "     country       0.54      0.59      0.57       199\n",
      "       disco       0.55      0.51      0.53       200\n",
      "      hiphop       0.66      0.67      0.66       200\n",
      "        jazz       0.65      0.65      0.65       200\n",
      "       metal       0.79      0.79      0.79       200\n",
      "         pop       0.74      0.71      0.73       200\n",
      "      reggae       0.71      0.64      0.67       200\n",
      "        rock       0.48      0.50      0.49       200\n",
      "\n",
      "    accuracy                           0.66      1998\n",
      "   macro avg       0.66      0.66      0.66      1998\n",
      "weighted avg       0.66      0.66      0.66      1998\n",
      "\n",
      "SGD Evaluation\n",
      "              precision    recall  f1-score   support\n",
      "\n",
      "       blues       0.19      0.07      0.10       200\n",
      "   classical       0.74      0.54      0.63       199\n",
      "     country       0.00      0.00      0.00       199\n",
      "       disco       0.09      0.51      0.16       200\n",
      "      hiphop       0.00      0.00      0.00       200\n",
      "        jazz       0.00      0.00      0.00       200\n",
      "       metal       0.42      0.03      0.05       200\n",
      "         pop       0.24      0.78      0.36       200\n",
      "      reggae       0.00      0.00      0.00       200\n",
      "        rock       0.20      0.01      0.01       200\n",
      "\n",
      "    accuracy                           0.19      1998\n",
      "   macro avg       0.19      0.19      0.13      1998\n",
      "weighted avg       0.19      0.19      0.13      1998\n",
      "\n",
      "NB Evaluation\n",
      "              precision    recall  f1-score   support\n",
      "\n",
      "       blues       0.36      0.19      0.25       200\n",
      "   classical       0.63      0.90      0.75       199\n",
      "     country       0.37      0.32      0.34       199\n",
      "       disco       0.29      0.43      0.34       200\n",
      "      hiphop       0.47      0.23      0.31       200\n",
      "        jazz       0.54      0.20      0.30       200\n",
      "       metal       0.32      0.88      0.46       200\n",
      "         pop       0.66      0.48      0.56       200\n",
      "      reggae       0.40      0.40      0.40       200\n",
      "        rock       0.27      0.10      0.14       200\n",
      "\n",
      "    accuracy                           0.41      1998\n",
      "   macro avg       0.43      0.41      0.38      1998\n",
      "weighted avg       0.43      0.41      0.38      1998\n",
      "\n",
      "KNN Evaluation\n",
      "              precision    recall  f1-score   support\n",
      "\n",
      "       blues       0.13      0.19      0.16       200\n",
      "   classical       0.60      0.68      0.64       199\n",
      "     country       0.18      0.20      0.19       199\n",
      "       disco       0.12      0.13      0.12       200\n",
      "      hiphop       0.21      0.22      0.22       200\n",
      "        jazz       0.23      0.19      0.21       200\n",
      "       metal       0.34      0.34      0.34       200\n",
      "         pop       0.33      0.32      0.33       200\n",
      "      reggae       0.29      0.23      0.26       200\n",
      "        rock       0.11      0.07      0.08       200\n",
      "\n",
      "    accuracy                           0.26      1998\n",
      "   macro avg       0.25      0.26      0.25      1998\n",
      "weighted avg       0.25      0.26      0.25      1998\n",
      "\n",
      "XGB Evaluation\n",
      "              precision    recall  f1-score   support\n",
      "\n",
      "       blues       0.91      0.91      0.91       200\n",
      "   classical       0.92      0.96      0.94       199\n",
      "     country       0.83      0.88      0.85       199\n",
      "       disco       0.87      0.90      0.89       200\n",
      "      hiphop       0.91      0.89      0.90       200\n",
      "        jazz       0.87      0.90      0.89       200\n",
      "       metal       0.94      0.94      0.94       200\n",
      "         pop       0.93      0.88      0.90       200\n",
      "      reggae       0.92      0.89      0.90       200\n",
      "        rock       0.85      0.82      0.84       200\n",
      "\n",
      "    accuracy                           0.90      1998\n",
      "   macro avg       0.90      0.90      0.90      1998\n",
      "weighted avg       0.90      0.90      0.90      1998\n",
      "\n",
      "5.6297688484191895\n"
     ]
    }
   ],
   "source": [
    "model = RandomForestClassifier()\n",
    "model_evaluation(model, X_train, X_test, 'RFC Evaluation')\n",
    "\n",
    "model = SVC()\n",
    "model_evaluation(model, X_train, X_test, 'SVC Evaluation')\n",
    "\n",
    "model = DecisionTreeClassifier()\n",
    "model_evaluation(model, X_train, X_test, 'DCT Evaluation')\n",
    "\n",
    "model = SGDClassifier()\n",
    "model_evaluation(model, X_train, X_test, 'SGD Evaluation')\n",
    "\n",
    "model = GaussianNB()\n",
    "model_evaluation(model, X_train, X_test,'NB Evaluation')\n",
    "\n",
    "model = KNeighborsClassifier()\n",
    "model_evaluation(model, X_train, X_test,'KNN Evaluation')\n",
    "\n",
    "model = XGBClassifier(objective=\"reg:squaredlogerror\", eval_metric=\"mlogloss\")\n",
    "y_pred = model_evaluation(model, X_train, X_test, 'XGB Evaluation')"
   ]
  },
  {
   "cell_type": "code",
   "execution_count": 24,
   "id": "64264b36-625b-48bf-b528-f9b7c142fe63",
   "metadata": {},
   "outputs": [
    {
     "name": "stdout",
     "output_type": "stream",
     "text": [
      "10 important feature: perceptr_var, spectral_bandwidth_mean, chroma_stft_var, mfcc1_var, chroma_stft_mean, rms_var, mfcc4_mean, rolloff_var, rms_mean, perceptr_mean\n"
     ]
    }
   ],
   "source": [
    "import numpy as np\n",
    "\n",
    "n_feature = 10\n",
    "feature_importance = pd.Series(model.feature_importances_, index=np.arange(X_train.shape[1]))\n",
    "top_feature = feature_importance.sort_values(ascending=False).head(n_feature).index.tolist()\n",
    "important_feature = [X.columns[i] for i in top_feature]\n",
    "print(f'{n_feature} important feature: {\", \".join(important_feature)}')"
   ]
  },
  {
   "cell_type": "code",
   "execution_count": 50,
   "id": "84ed55e6-3802-4144-9147-a578749037d7",
   "metadata": {},
   "outputs": [],
   "source": [
    "from sklearn.model_selection import GridSearchCV \n",
    "\n",
    "param_grid = {\n",
    "    'learning_rate': [0.2, 0.3, 0.4],\n",
    "    'max_depth': [4, 5, 6],\n",
    "    'n_estimators': [1000]\n",
    "        }"
   ]
  },
  {
   "cell_type": "code",
   "execution_count": 51,
   "id": "b6783d59-f237-4b1b-abfa-9326d1fcf2a2",
   "metadata": {},
   "outputs": [
    {
     "name": "stdout",
     "output_type": "stream",
     "text": [
      "Время на поиск гиперпараметров: 957.3684813976288\n",
      "{'learning_rate': 0.2, 'max_depth': 5, 'n_estimators': 1000}\n",
      "              precision    recall  f1-score   support\n",
      "\n",
      "       blues       0.90      0.92      0.91       200\n",
      "   classical       0.93      0.97      0.95       199\n",
      "     country       0.86      0.88      0.87       199\n",
      "       disco       0.90      0.93      0.91       200\n",
      "      hiphop       0.93      0.87      0.90       200\n",
      "        jazz       0.86      0.92      0.89       200\n",
      "       metal       0.95      0.95      0.95       200\n",
      "         pop       0.93      0.90      0.91       200\n",
      "      reggae       0.91      0.91      0.91       200\n",
      "        rock       0.88      0.82      0.85       200\n",
      "\n",
      "    accuracy                           0.90      1998\n",
      "   macro avg       0.91      0.90      0.90      1998\n",
      "weighted avg       0.91      0.90      0.90      1998\n",
      "\n"
     ]
    }
   ],
   "source": [
    "import time\n",
    "\n",
    "model = XGBClassifier(objective=\"reg:squaredlogerror\", eval_metric=\"mlogloss\")\n",
    "start_time = time.time() \n",
    "grid = GridSearchCV(model, param_grid, cv=4)\n",
    "grid.fit(X_train, y_train)\n",
    "end_time = time.time() \n",
    "execution_time = end_time - start_time \n",
    "print(\"Время на поиск гиперпараметров:\", execution_time)\n",
    "print(grid.best_params_)\n",
    "y_pred = grid.predict(X_test)\n",
    "print(classification_report(y_test, y_pred, target_names=le.classes_, zero_division=0.0))\n"
   ]
  },
  {
   "cell_type": "code",
   "execution_count": 53,
   "id": "eac06a2e-fd32-4385-9db8-6a6e9f0ed518",
   "metadata": {},
   "outputs": [
    {
     "name": "stdout",
     "output_type": "stream",
     "text": [
      "Время на обучение и предсказание при заданных гиперпараметрах: 34.973503828048706\n"
     ]
    },
    {
     "data": {
      "image/png": "[encoded data removed]",
      "text/plain": [
       "<Figure size 640x480 with 2 Axes>"
      ]
     },
     "metadata": {},
     "output_type": "display_data"
    }
   ],
   "source": [
    "import time\n",
    "\n",
    "start_time = time.time() \n",
    "model = XGBClassifier(objective=\"reg:squaredlogerror\", eval_metric=\"mlogloss\", learning_rate=0.2, max_depth=5, n_estimators=1000)\n",
    "model.fit(X_train, y_train)\n",
    "y_pred = model.predict(X_test)\n",
    "end_time = time.time() \n",
    "execution_time = end_time - start_time \n",
    "print(\"Время на обучение и предсказание при заданных гиперпараметрах:\", execution_time)\n",
    "\n",
    "from sklearn.metrics import confusion_matrix, ConfusionMatrixDisplay\n",
    "import matplotlib.pyplot as plt\n",
    "\n",
    "cm = confusion_matrix(y_test, y_pred)\n",
    "disp = ConfusionMatrixDisplay(confusion_matrix=cm, display_labels=le.classes_)\n",
    "disp.plot(cmap=plt.cm.Blues, xticks_rotation=45)\n",
    "plt.tight_layout()\n",
    "plt.show()\n",
    "\n",
    "import pickle\n",
    "\n",
    "file_name=\"network.pkl\"\n",
    "pickle.dump(model, open(file_name, \"wb\"))"
   ]
  },
  {
   "cell_type": "code",
   "execution_count": null,
   "id": "5e624fc3-4780-4d4e-a57b-9e6701593375",
   "metadata": {},
   "outputs": [],
   "source": []
  }
 ],
 "metadata": {
  "kernelspec": {
   "display_name": "Python 3 (ipykernel)",
   "language": "python",
   "name": "python3"
  },
  "language_info": {
   "codemirror_mode": {
    "name": "ipython",
    "version": 3
   },
   "file_extension": ".py",
   "mimetype": "text/x-python",
   "name": "python",
   "nbconvert_exporter": "python",
   "pygments_lexer": "ipython3",
   "version": "3.13.3"
  }
 },
 "nbformat": 4,
 "nbformat_minor": 5
}
